{
 "metadata": {
  "language_info": {
   "codemirror_mode": {
    "name": "ipython",
    "version": 3
   },
   "file_extension": ".py",
   "mimetype": "text/x-python",
   "name": "python",
   "nbconvert_exporter": "python",
   "pygments_lexer": "ipython3",
   "version": 3
  },
  "orig_nbformat": 2,
  "kernelspec": {
   "name": "python_defaultSpec_1595973142943",
   "display_name": "Python 3.7.7 64-bit ('tensorflow_v2_1': conda)"
  }
 },
 "nbformat": 4,
 "nbformat_minor": 2,
 "cells": [
  {
   "cell_type": "markdown",
   "metadata": {},
   "source": [
    "Attempt to predict wave heights with historic met data.<ol>\n",
    "<li> 1. Predict single location based on wind, pressure, seasonality</li>\n",
    "<li> 2. Predict wave height based on wave height of other buoys</li>\n",
    "</ol>\n",
    "\n",
    "<p> Data is from Coastal observatory (waves) and CEDA (weather)</p>\n",
    "ob_time\twind_direction\twind_speed\tmsl_pressure\tair_temperature\n",
    "\n"
   ]
  },
  {
   "cell_type": "code",
   "execution_count": 3,
   "metadata": {},
   "outputs": [],
   "source": [
    "#reading in unprocessed data\n",
    "import glob as glob\n",
    "import pandas as pd\n",
    "import numpy as np\n",
    "from pathlib import Path\n",
    "#visialisation\n",
    "import seaborn as sns\n",
    "import matplotlib.pyplot as plt\n"
   ]
  },
  {
   "cell_type": "code",
   "execution_count": 4,
   "metadata": {
    "tags": []
   },
   "outputs": [
    {
     "output_type": "execute_result",
     "data": {
      "text/plain": "                  ob_time  wind_direction  wind_speed  msl_pressure  \\\n0     2010-01-01 00:00:00            50.0         8.0        1003.9   \n1     2010-01-01 01:00:00            50.0         9.0        1004.0   \n2     2010-01-01 02:00:00            40.0         8.0        1004.2   \n3     2010-01-01 03:00:00            40.0         5.0        1004.6   \n4     2010-01-01 04:00:00            80.0         1.0        1004.9   \n...                   ...             ...         ...           ...   \n78806 2018-12-31 19:00:00           300.0         9.0        1037.1   \n78807 2018-12-31 20:00:00           280.0        11.0        1037.2   \n78808 2018-12-31 21:00:00           300.0         5.0        1037.1   \n78809 2018-12-31 22:00:00           300.0        11.0        1037.1   \n78810 2018-12-31 23:00:00           290.0        12.0        1037.0   \n\n       air_temperature  season  \n0                  2.1  Winter  \n1                  2.1  Winter  \n2                  1.4  Winter  \n3                  1.2  Winter  \n4                 -1.0  Winter  \n...                ...     ...  \n78806              9.7  Winter  \n78807              9.7  Winter  \n78808              9.5  Winter  \n78809              9.6  Winter  \n78810              9.5  Winter  \n\n[78811 rows x 6 columns]",
      "text/html": "<div>\n<style scoped>\n    .dataframe tbody tr th:only-of-type {\n        vertical-align: middle;\n    }\n\n    .dataframe tbody tr th {\n        vertical-align: top;\n    }\n\n    .dataframe thead th {\n        text-align: right;\n    }\n</style>\n<table border=\"1\" class=\"dataframe\">\n  <thead>\n    <tr style=\"text-align: right;\">\n      <th></th>\n      <th>ob_time</th>\n      <th>wind_direction</th>\n      <th>wind_speed</th>\n      <th>msl_pressure</th>\n      <th>air_temperature</th>\n      <th>season</th>\n    </tr>\n  </thead>\n  <tbody>\n    <tr>\n      <th>0</th>\n      <td>2010-01-01 00:00:00</td>\n      <td>50.0</td>\n      <td>8.0</td>\n      <td>1003.9</td>\n      <td>2.1</td>\n      <td>Winter</td>\n    </tr>\n    <tr>\n      <th>1</th>\n      <td>2010-01-01 01:00:00</td>\n      <td>50.0</td>\n      <td>9.0</td>\n      <td>1004.0</td>\n      <td>2.1</td>\n      <td>Winter</td>\n    </tr>\n    <tr>\n      <th>2</th>\n      <td>2010-01-01 02:00:00</td>\n      <td>40.0</td>\n      <td>8.0</td>\n      <td>1004.2</td>\n      <td>1.4</td>\n      <td>Winter</td>\n    </tr>\n    <tr>\n      <th>3</th>\n      <td>2010-01-01 03:00:00</td>\n      <td>40.0</td>\n      <td>5.0</td>\n      <td>1004.6</td>\n      <td>1.2</td>\n      <td>Winter</td>\n    </tr>\n    <tr>\n      <th>4</th>\n      <td>2010-01-01 04:00:00</td>\n      <td>80.0</td>\n      <td>1.0</td>\n      <td>1004.9</td>\n      <td>-1.0</td>\n      <td>Winter</td>\n    </tr>\n    <tr>\n      <th>...</th>\n      <td>...</td>\n      <td>...</td>\n      <td>...</td>\n      <td>...</td>\n      <td>...</td>\n      <td>...</td>\n    </tr>\n    <tr>\n      <th>78806</th>\n      <td>2018-12-31 19:00:00</td>\n      <td>300.0</td>\n      <td>9.0</td>\n      <td>1037.1</td>\n      <td>9.7</td>\n      <td>Winter</td>\n    </tr>\n    <tr>\n      <th>78807</th>\n      <td>2018-12-31 20:00:00</td>\n      <td>280.0</td>\n      <td>11.0</td>\n      <td>1037.2</td>\n      <td>9.7</td>\n      <td>Winter</td>\n    </tr>\n    <tr>\n      <th>78808</th>\n      <td>2018-12-31 21:00:00</td>\n      <td>300.0</td>\n      <td>5.0</td>\n      <td>1037.1</td>\n      <td>9.5</td>\n      <td>Winter</td>\n    </tr>\n    <tr>\n      <th>78809</th>\n      <td>2018-12-31 22:00:00</td>\n      <td>300.0</td>\n      <td>11.0</td>\n      <td>1037.1</td>\n      <td>9.6</td>\n      <td>Winter</td>\n    </tr>\n    <tr>\n      <th>78810</th>\n      <td>2018-12-31 23:00:00</td>\n      <td>290.0</td>\n      <td>12.0</td>\n      <td>1037.0</td>\n      <td>9.5</td>\n      <td>Winter</td>\n    </tr>\n  </tbody>\n</table>\n<p>78811 rows × 6 columns</p>\n</div>"
     },
     "metadata": {},
     "execution_count": 4
    }
   ],
   "source": [
    "# Importing weather data\n",
    "glob_path = Path(r\"C:\\Users\\rhnae\\Downloads\\data\\waveHeightPrediction\")\n",
    "file_list = [str(pp) for pp in glob_path.glob(\"*.csv\")]\n",
    "file_list\n",
    "wind_data = []\n",
    "for fileIn in file_list:\n",
    "    #print(fileIn)\n",
    "    df = pd.read_csv(fileIn, \n",
    "    header = 280,\n",
    "    usecols = ['ob_time','wind_direction','wind_speed','msl_pressure', 'air_temperature'],\n",
    "    skipfooter = 1)\n",
    "    wind_data.append(df)\n",
    "wind_data = pd.concat(wind_data)\n",
    "wind_data['ob_time'] = pd.to_datetime(wind_data['ob_time'])\n",
    "#\n",
    "wind_data.reset_index(drop = True, inplace = True)\n",
    "def seasonality(df):\n",
    "    from time import strftime\n",
    "    \"\"\"\n",
    "    Returns data according to season 1. Winter, 2. Spring, 3. Summer or 4. Autumn\n",
    "    \"\"\"\n",
    "    seasons = {\n",
    "        'Winter': ['December', 'January','February'],\n",
    "        'Spring': ['March', 'April','May'],\n",
    "        'Summer': ['June','July','August'],\n",
    "        'Autumn': ['September', 'October','November' ]}\n",
    "    \n",
    "    indices = [None]*len(df)\n",
    "\n",
    "    for i in range(len(df)):\n",
    "        for idx, season in enumerate(seasons):\n",
    "            if df.ob_time[i].strftime('%B') in seasons[season]:\n",
    "                indices[i] = season  \n",
    "    return indices  \n",
    "\n",
    "wind_data['season'] = seasonality(wind_data) \n",
    "wind_data\n"
   ]
  },
  {
   "cell_type": "code",
   "execution_count": 5,
   "metadata": {},
   "outputs": [],
   "source": [
    "# import wave data\n",
    "\n",
    "glob_path = Path(r\"C:\\Users\\rhnae\\Downloads\\data\\waveHeightPrediction\\Bideford Bay_qc_data\")\n",
    "file_list = [str(pp) for pp in glob_path.glob(\"*.txt\")]\n",
    "file_list\n",
    "wave_data = []\n",
    "for fileIn in file_list:\n",
    "    #print(fileIn)\n",
    "    df = pd.read_csv(fileIn,sep='\\t')\n",
    "    wave_data.append(df)\n",
    "wave_data = pd.concat(wave_data)\n",
    "wave_data['ob_time'] = pd.to_datetime(wave_data['Date/Time (GMT)'])\n",
    "\n"
   ]
  },
  {
   "cell_type": "code",
   "execution_count": 6,
   "metadata": {},
   "outputs": [
    {
     "output_type": "execute_result",
     "data": {
      "text/plain": "      Latitude  Longitude  Flag  Hs (Hm0)(m)  Hmax (m)  Tp (s)  Tz (Tm)(s)  \\\n0     51.05787   -4.27703     0         0.49      0.69    10.5         3.9   \n1     51.05787   -4.27703     0         0.50      0.81    11.8         4.2   \n2     51.05787   -4.27703     0         0.53      0.74    12.5         4.0   \n3     51.05785   -4.27705     0         0.58      0.83     4.2         3.7   \n4     51.05806   -4.27716     0         0.60      0.95     4.5         3.5   \n...        ...        ...   ...          ...       ...     ...         ...   \n1435  51.05834   -4.27662     0         0.61      0.91     2.9         3.0   \n1436  51.05835   -4.27664     0         0.58      0.78     4.8         3.0   \n1437  51.05834   -4.27660     0         0.60      0.79     5.0         3.0   \n1438  51.05834   -4.27658     0         0.64      0.99     4.8         3.1   \n1439  51.05835   -4.27662     0      9999.00      0.98  9999.0      9999.0   \n\n      Dirp (degrees)  Spread (deg)  SST (deg C)             ob_time  \n0                291            17          8.4 2010-01-01 00:00:00  \n1                293            14          8.5 2010-01-01 00:30:00  \n2                281            17          8.6 2010-01-01 01:00:00  \n3                352            18          8.6 2010-01-01 01:30:00  \n4                345            18          8.6 2010-01-01 02:00:00  \n...              ...           ...          ...                 ...  \n1435             263            18         15.2 2020-06-30 21:30:00  \n1436             281            19         15.2 2020-06-30 22:00:00  \n1437             283            23         15.1 2020-06-30 22:30:00  \n1438             274            18         15.0 2020-06-30 23:00:00  \n1439            9999          9999       9999.0 2020-06-30 23:30:00  \n\n[184032 rows x 11 columns]",
      "text/html": "<div>\n<style scoped>\n    .dataframe tbody tr th:only-of-type {\n        vertical-align: middle;\n    }\n\n    .dataframe tbody tr th {\n        vertical-align: top;\n    }\n\n    .dataframe thead th {\n        text-align: right;\n    }\n</style>\n<table border=\"1\" class=\"dataframe\">\n  <thead>\n    <tr style=\"text-align: right;\">\n      <th></th>\n      <th>Latitude</th>\n      <th>Longitude</th>\n      <th>Flag</th>\n      <th>Hs (Hm0)(m)</th>\n      <th>Hmax (m)</th>\n      <th>Tp (s)</th>\n      <th>Tz (Tm)(s)</th>\n      <th>Dirp (degrees)</th>\n      <th>Spread (deg)</th>\n      <th>SST (deg C)</th>\n      <th>ob_time</th>\n    </tr>\n  </thead>\n  <tbody>\n    <tr>\n      <th>0</th>\n      <td>51.05787</td>\n      <td>-4.27703</td>\n      <td>0</td>\n      <td>0.49</td>\n      <td>0.69</td>\n      <td>10.5</td>\n      <td>3.9</td>\n      <td>291</td>\n      <td>17</td>\n      <td>8.4</td>\n      <td>2010-01-01 00:00:00</td>\n    </tr>\n    <tr>\n      <th>1</th>\n      <td>51.05787</td>\n      <td>-4.27703</td>\n      <td>0</td>\n      <td>0.50</td>\n      <td>0.81</td>\n      <td>11.8</td>\n      <td>4.2</td>\n      <td>293</td>\n      <td>14</td>\n      <td>8.5</td>\n      <td>2010-01-01 00:30:00</td>\n    </tr>\n    <tr>\n      <th>2</th>\n      <td>51.05787</td>\n      <td>-4.27703</td>\n      <td>0</td>\n      <td>0.53</td>\n      <td>0.74</td>\n      <td>12.5</td>\n      <td>4.0</td>\n      <td>281</td>\n      <td>17</td>\n      <td>8.6</td>\n      <td>2010-01-01 01:00:00</td>\n    </tr>\n    <tr>\n      <th>3</th>\n      <td>51.05785</td>\n      <td>-4.27705</td>\n      <td>0</td>\n      <td>0.58</td>\n      <td>0.83</td>\n      <td>4.2</td>\n      <td>3.7</td>\n      <td>352</td>\n      <td>18</td>\n      <td>8.6</td>\n      <td>2010-01-01 01:30:00</td>\n    </tr>\n    <tr>\n      <th>4</th>\n      <td>51.05806</td>\n      <td>-4.27716</td>\n      <td>0</td>\n      <td>0.60</td>\n      <td>0.95</td>\n      <td>4.5</td>\n      <td>3.5</td>\n      <td>345</td>\n      <td>18</td>\n      <td>8.6</td>\n      <td>2010-01-01 02:00:00</td>\n    </tr>\n    <tr>\n      <th>...</th>\n      <td>...</td>\n      <td>...</td>\n      <td>...</td>\n      <td>...</td>\n      <td>...</td>\n      <td>...</td>\n      <td>...</td>\n      <td>...</td>\n      <td>...</td>\n      <td>...</td>\n      <td>...</td>\n    </tr>\n    <tr>\n      <th>1435</th>\n      <td>51.05834</td>\n      <td>-4.27662</td>\n      <td>0</td>\n      <td>0.61</td>\n      <td>0.91</td>\n      <td>2.9</td>\n      <td>3.0</td>\n      <td>263</td>\n      <td>18</td>\n      <td>15.2</td>\n      <td>2020-06-30 21:30:00</td>\n    </tr>\n    <tr>\n      <th>1436</th>\n      <td>51.05835</td>\n      <td>-4.27664</td>\n      <td>0</td>\n      <td>0.58</td>\n      <td>0.78</td>\n      <td>4.8</td>\n      <td>3.0</td>\n      <td>281</td>\n      <td>19</td>\n      <td>15.2</td>\n      <td>2020-06-30 22:00:00</td>\n    </tr>\n    <tr>\n      <th>1437</th>\n      <td>51.05834</td>\n      <td>-4.27660</td>\n      <td>0</td>\n      <td>0.60</td>\n      <td>0.79</td>\n      <td>5.0</td>\n      <td>3.0</td>\n      <td>283</td>\n      <td>23</td>\n      <td>15.1</td>\n      <td>2020-06-30 22:30:00</td>\n    </tr>\n    <tr>\n      <th>1438</th>\n      <td>51.05834</td>\n      <td>-4.27658</td>\n      <td>0</td>\n      <td>0.64</td>\n      <td>0.99</td>\n      <td>4.8</td>\n      <td>3.1</td>\n      <td>274</td>\n      <td>18</td>\n      <td>15.0</td>\n      <td>2020-06-30 23:00:00</td>\n    </tr>\n    <tr>\n      <th>1439</th>\n      <td>51.05835</td>\n      <td>-4.27662</td>\n      <td>0</td>\n      <td>9999.00</td>\n      <td>0.98</td>\n      <td>9999.0</td>\n      <td>9999.0</td>\n      <td>9999</td>\n      <td>9999</td>\n      <td>9999.0</td>\n      <td>2020-06-30 23:30:00</td>\n    </tr>\n  </tbody>\n</table>\n<p>184032 rows × 11 columns</p>\n</div>"
     },
     "metadata": {},
     "execution_count": 6
    }
   ],
   "source": [
    "wave_data.drop(['Date/Time (GMT)'],axis = 1, inplace = True)\n",
    "# wave_data.reset_index(drop = True, inplace = True)\n",
    "wave_data"
   ]
  },
  {
   "cell_type": "code",
   "execution_count": 89,
   "metadata": {},
   "outputs": [
    {
     "output_type": "execute_result",
     "data": {
      "text/plain": "                     wind_direction  wind_speed  msl_pressure  \\\nob_time                                                         \n2010-01-01 00:00:00            50.0         8.0        1003.9   \n2010-01-01 01:00:00            50.0         9.0        1004.0   \n\n                     air_temperature  season  Latitude  Longitude  Flag  \\\nob_time                                                                   \n2010-01-01 00:00:00              2.1  Winter  51.05787   -4.27703     0   \n2010-01-01 01:00:00              2.1  Winter  51.05787   -4.27703     0   \n\n                     Hs (Hm0)(m)  Hmax (m)  Tp (s)  Tz (Tm)(s)  \\\nob_time                                                          \n2010-01-01 00:00:00         0.49      0.69    10.5         3.9   \n2010-01-01 01:00:00         0.53      0.74    12.5         4.0   \n\n                     Dirp (degrees)  Spread (deg)  SST (deg C)  \nob_time                                                         \n2010-01-01 00:00:00             291            17          8.4  \n2010-01-01 01:00:00             281            17          8.6  ",
      "text/html": "<div>\n<style scoped>\n    .dataframe tbody tr th:only-of-type {\n        vertical-align: middle;\n    }\n\n    .dataframe tbody tr th {\n        vertical-align: top;\n    }\n\n    .dataframe thead th {\n        text-align: right;\n    }\n</style>\n<table border=\"1\" class=\"dataframe\">\n  <thead>\n    <tr style=\"text-align: right;\">\n      <th></th>\n      <th>wind_direction</th>\n      <th>wind_speed</th>\n      <th>msl_pressure</th>\n      <th>air_temperature</th>\n      <th>season</th>\n      <th>Latitude</th>\n      <th>Longitude</th>\n      <th>Flag</th>\n      <th>Hs (Hm0)(m)</th>\n      <th>Hmax (m)</th>\n      <th>Tp (s)</th>\n      <th>Tz (Tm)(s)</th>\n      <th>Dirp (degrees)</th>\n      <th>Spread (deg)</th>\n      <th>SST (deg C)</th>\n    </tr>\n    <tr>\n      <th>ob_time</th>\n      <th></th>\n      <th></th>\n      <th></th>\n      <th></th>\n      <th></th>\n      <th></th>\n      <th></th>\n      <th></th>\n      <th></th>\n      <th></th>\n      <th></th>\n      <th></th>\n      <th></th>\n      <th></th>\n      <th></th>\n    </tr>\n  </thead>\n  <tbody>\n    <tr>\n      <th>2010-01-01 00:00:00</th>\n      <td>50.0</td>\n      <td>8.0</td>\n      <td>1003.9</td>\n      <td>2.1</td>\n      <td>Winter</td>\n      <td>51.05787</td>\n      <td>-4.27703</td>\n      <td>0</td>\n      <td>0.49</td>\n      <td>0.69</td>\n      <td>10.5</td>\n      <td>3.9</td>\n      <td>291</td>\n      <td>17</td>\n      <td>8.4</td>\n    </tr>\n    <tr>\n      <th>2010-01-01 01:00:00</th>\n      <td>50.0</td>\n      <td>9.0</td>\n      <td>1004.0</td>\n      <td>2.1</td>\n      <td>Winter</td>\n      <td>51.05787</td>\n      <td>-4.27703</td>\n      <td>0</td>\n      <td>0.53</td>\n      <td>0.74</td>\n      <td>12.5</td>\n      <td>4.0</td>\n      <td>281</td>\n      <td>17</td>\n      <td>8.6</td>\n    </tr>\n  </tbody>\n</table>\n</div>"
     },
     "metadata": {},
     "execution_count": 89
    }
   ],
   "source": [
    "#merge dataframes\n",
    "all_data = pd.merge_asof(wind_data,wave_data, on='ob_time' )\n",
    "all_data.set_index('ob_time', inplace = True) # eeded for interpolation later\n",
    "all_data.head(2)"
   ]
  },
  {
   "cell_type": "code",
   "execution_count": 90,
   "metadata": {
    "tags": []
   },
   "outputs": [
    {
     "output_type": "execute_result",
     "data": {
      "text/plain": "                  ob_time  wind_direction  wind_speed  msl_pressure  \\\n0     2010-01-01 00:00:00            50.0         8.0        1003.9   \n1     2010-01-01 01:00:00            50.0         9.0        1004.0   \n2     2010-01-01 02:00:00            40.0         8.0        1004.2   \n3     2010-01-01 03:00:00            40.0         5.0        1004.6   \n4     2010-01-01 04:00:00            80.0         1.0        1004.9   \n...                   ...             ...         ...           ...   \n78806 2018-12-31 19:00:00           300.0         9.0        1037.1   \n78807 2018-12-31 20:00:00           280.0        11.0        1037.2   \n78808 2018-12-31 21:00:00           300.0         5.0        1037.1   \n78809 2018-12-31 22:00:00           300.0        11.0        1037.1   \n78810 2018-12-31 23:00:00           290.0        12.0        1037.0   \n\n       air_temperature  season  Latitude  Longitude  Flag  Hs (Hm0)(m)  \\\n0                  2.1  Winter  51.05787   -4.27703     0         0.49   \n1                  2.1  Winter  51.05787   -4.27703     0         0.53   \n2                  1.4  Winter  51.05806   -4.27716     0         0.60   \n3                  1.2  Winter  51.05853   -4.27626     0         0.64   \n4                 -1.0  Winter  51.05848   -4.27589     0         0.61   \n...                ...     ...       ...        ...   ...          ...   \n78806              9.7  Winter  51.05769   -4.27699     0         1.22   \n78807              9.7  Winter  51.05768   -4.27662     0         1.32   \n78808              9.5  Winter  51.05793   -4.27608     0         1.42   \n78809              9.6  Winter  51.05806   -4.27600     0         1.51   \n78810              9.5  Winter  51.05832   -4.27604     0         1.51   \n\n       Hmax (m)  Tp (s)  Tz (Tm)(s)  Dirp (degrees)  Spread (deg)  SST (deg C)  \n0          0.69    10.5         3.9           291.0          17.0          8.4  \n1          0.74    12.5         4.0           281.0          17.0          8.6  \n2          0.95     4.5         3.5           345.0          18.0          8.6  \n3          0.96     5.3         4.0           353.0          19.0          8.7  \n4          1.14     5.0         3.9           347.0          24.0          8.6  \n...         ...     ...         ...             ...           ...          ...  \n78806      1.82    10.0         6.2           273.0          10.0         10.2  \n78807      2.06    10.0         6.5           278.0           8.0         10.3  \n78808      2.06    10.5         6.6           280.0           9.0         10.3  \n78809      2.85    11.1         6.6           277.0           9.0         10.3  \n78810      2.03    11.1         6.6           277.0           9.0         10.3  \n\n[78811 rows x 16 columns]",
      "text/html": "<div>\n<style scoped>\n    .dataframe tbody tr th:only-of-type {\n        vertical-align: middle;\n    }\n\n    .dataframe tbody tr th {\n        vertical-align: top;\n    }\n\n    .dataframe thead th {\n        text-align: right;\n    }\n</style>\n<table border=\"1\" class=\"dataframe\">\n  <thead>\n    <tr style=\"text-align: right;\">\n      <th></th>\n      <th>ob_time</th>\n      <th>wind_direction</th>\n      <th>wind_speed</th>\n      <th>msl_pressure</th>\n      <th>air_temperature</th>\n      <th>season</th>\n      <th>Latitude</th>\n      <th>Longitude</th>\n      <th>Flag</th>\n      <th>Hs (Hm0)(m)</th>\n      <th>Hmax (m)</th>\n      <th>Tp (s)</th>\n      <th>Tz (Tm)(s)</th>\n      <th>Dirp (degrees)</th>\n      <th>Spread (deg)</th>\n      <th>SST (deg C)</th>\n    </tr>\n  </thead>\n  <tbody>\n    <tr>\n      <th>0</th>\n      <td>2010-01-01 00:00:00</td>\n      <td>50.0</td>\n      <td>8.0</td>\n      <td>1003.9</td>\n      <td>2.1</td>\n      <td>Winter</td>\n      <td>51.05787</td>\n      <td>-4.27703</td>\n      <td>0</td>\n      <td>0.49</td>\n      <td>0.69</td>\n      <td>10.5</td>\n      <td>3.9</td>\n      <td>291.0</td>\n      <td>17.0</td>\n      <td>8.4</td>\n    </tr>\n    <tr>\n      <th>1</th>\n      <td>2010-01-01 01:00:00</td>\n      <td>50.0</td>\n      <td>9.0</td>\n      <td>1004.0</td>\n      <td>2.1</td>\n      <td>Winter</td>\n      <td>51.05787</td>\n      <td>-4.27703</td>\n      <td>0</td>\n      <td>0.53</td>\n      <td>0.74</td>\n      <td>12.5</td>\n      <td>4.0</td>\n      <td>281.0</td>\n      <td>17.0</td>\n      <td>8.6</td>\n    </tr>\n    <tr>\n      <th>2</th>\n      <td>2010-01-01 02:00:00</td>\n      <td>40.0</td>\n      <td>8.0</td>\n      <td>1004.2</td>\n      <td>1.4</td>\n      <td>Winter</td>\n      <td>51.05806</td>\n      <td>-4.27716</td>\n      <td>0</td>\n      <td>0.60</td>\n      <td>0.95</td>\n      <td>4.5</td>\n      <td>3.5</td>\n      <td>345.0</td>\n      <td>18.0</td>\n      <td>8.6</td>\n    </tr>\n    <tr>\n      <th>3</th>\n      <td>2010-01-01 03:00:00</td>\n      <td>40.0</td>\n      <td>5.0</td>\n      <td>1004.6</td>\n      <td>1.2</td>\n      <td>Winter</td>\n      <td>51.05853</td>\n      <td>-4.27626</td>\n      <td>0</td>\n      <td>0.64</td>\n      <td>0.96</td>\n      <td>5.3</td>\n      <td>4.0</td>\n      <td>353.0</td>\n      <td>19.0</td>\n      <td>8.7</td>\n    </tr>\n    <tr>\n      <th>4</th>\n      <td>2010-01-01 04:00:00</td>\n      <td>80.0</td>\n      <td>1.0</td>\n      <td>1004.9</td>\n      <td>-1.0</td>\n      <td>Winter</td>\n      <td>51.05848</td>\n      <td>-4.27589</td>\n      <td>0</td>\n      <td>0.61</td>\n      <td>1.14</td>\n      <td>5.0</td>\n      <td>3.9</td>\n      <td>347.0</td>\n      <td>24.0</td>\n      <td>8.6</td>\n    </tr>\n    <tr>\n      <th>...</th>\n      <td>...</td>\n      <td>...</td>\n      <td>...</td>\n      <td>...</td>\n      <td>...</td>\n      <td>...</td>\n      <td>...</td>\n      <td>...</td>\n      <td>...</td>\n      <td>...</td>\n      <td>...</td>\n      <td>...</td>\n      <td>...</td>\n      <td>...</td>\n      <td>...</td>\n      <td>...</td>\n    </tr>\n    <tr>\n      <th>78806</th>\n      <td>2018-12-31 19:00:00</td>\n      <td>300.0</td>\n      <td>9.0</td>\n      <td>1037.1</td>\n      <td>9.7</td>\n      <td>Winter</td>\n      <td>51.05769</td>\n      <td>-4.27699</td>\n      <td>0</td>\n      <td>1.22</td>\n      <td>1.82</td>\n      <td>10.0</td>\n      <td>6.2</td>\n      <td>273.0</td>\n      <td>10.0</td>\n      <td>10.2</td>\n    </tr>\n    <tr>\n      <th>78807</th>\n      <td>2018-12-31 20:00:00</td>\n      <td>280.0</td>\n      <td>11.0</td>\n      <td>1037.2</td>\n      <td>9.7</td>\n      <td>Winter</td>\n      <td>51.05768</td>\n      <td>-4.27662</td>\n      <td>0</td>\n      <td>1.32</td>\n      <td>2.06</td>\n      <td>10.0</td>\n      <td>6.5</td>\n      <td>278.0</td>\n      <td>8.0</td>\n      <td>10.3</td>\n    </tr>\n    <tr>\n      <th>78808</th>\n      <td>2018-12-31 21:00:00</td>\n      <td>300.0</td>\n      <td>5.0</td>\n      <td>1037.1</td>\n      <td>9.5</td>\n      <td>Winter</td>\n      <td>51.05793</td>\n      <td>-4.27608</td>\n      <td>0</td>\n      <td>1.42</td>\n      <td>2.06</td>\n      <td>10.5</td>\n      <td>6.6</td>\n      <td>280.0</td>\n      <td>9.0</td>\n      <td>10.3</td>\n    </tr>\n    <tr>\n      <th>78809</th>\n      <td>2018-12-31 22:00:00</td>\n      <td>300.0</td>\n      <td>11.0</td>\n      <td>1037.1</td>\n      <td>9.6</td>\n      <td>Winter</td>\n      <td>51.05806</td>\n      <td>-4.27600</td>\n      <td>0</td>\n      <td>1.51</td>\n      <td>2.85</td>\n      <td>11.1</td>\n      <td>6.6</td>\n      <td>277.0</td>\n      <td>9.0</td>\n      <td>10.3</td>\n    </tr>\n    <tr>\n      <th>78810</th>\n      <td>2018-12-31 23:00:00</td>\n      <td>290.0</td>\n      <td>12.0</td>\n      <td>1037.0</td>\n      <td>9.5</td>\n      <td>Winter</td>\n      <td>51.05832</td>\n      <td>-4.27604</td>\n      <td>0</td>\n      <td>1.51</td>\n      <td>2.03</td>\n      <td>11.1</td>\n      <td>6.6</td>\n      <td>277.0</td>\n      <td>9.0</td>\n      <td>10.3</td>\n    </tr>\n  </tbody>\n</table>\n<p>78811 rows × 16 columns</p>\n</div>"
     },
     "metadata": {},
     "execution_count": 90
    }
   ],
   "source": [
    "# Need to remove flagged data - chosen to interpolate\n",
    "#all_data = all_data.fillna(9999).interpolate()\n",
    "all_data.replace(to_replace = 9999, value = np.nan,inplace = True)\n",
    "\n",
    "list1 = ['Hs (Hm0)(m)','Hmax (m)','Tp (s)', 'Tz (Tm)(s)', 'Dirp (degrees)', 'Spread (deg)']\n",
    "# all_data.replace(9999,'NaN',inplace = True)\n",
    "for col in all_data:\n",
    "    if col in list1:\n",
    "       all_data.loc[(all_data['Flag']> 0),col]  = np.nan\n",
    "   # all_data.loc[col,9999] = np.nan # replace with nan first\n",
    "    all_data[col].interpolate(method='time',inplace=True)\n",
    "\n",
    "\n",
    "all_data.reset_index(drop = False, inplace = True)\n",
    "all_data "
   ]
  },
  {
   "cell_type": "code",
   "execution_count": 9,
   "metadata": {
    "tags": []
   },
   "outputs": [
    {
     "output_type": "stream",
     "name": "stderr",
     "text": ":FEATURES DONE:                    |█████████████████████| [100%]   00:06  -> (00:00 left)\n:PAIRWISE DONE:                    |█████████████████████| [100%]   00:01  -> (00:00 left)\nCreating Associations graph...DONE!\nReport SWEETVIZ_REPORT.html was generated! NOTEBOOK/COLAB USERS: no browser will pop up, the report is saved in your notebook/colab files.\n"
    }
   ],
   "source": [
    "import sweetviz as sv\n",
    "sweet_report = sv.analyze(all_data)\n",
    "sweet_report.show_html()"
   ]
  },
  {
   "cell_type": "code",
   "execution_count": 84,
   "metadata": {},
   "outputs": [],
   "source": [
    "from bokeh.plotting import figure, output_file, show\n",
    "output_file(\"Waves.html\")\n",
    "f = figure(title=\"'Hmax Comparison\", y_axis_label='Wave Height (m)')\n",
    "f.line(all_data['ob_time'], all_data['Hmax (m)'])\n",
    "#f.line(all_data.index.values, all_data['Hmax (m)'])\n",
    "show(f)"
   ]
  },
  {
   "cell_type": "code",
   "execution_count": 85,
   "metadata": {},
   "outputs": [
    {
     "output_type": "execute_result",
     "data": {
      "text/plain": "                     wind_direction  wind_speed  msl_pressure  \\\nob_time                                                         \n2010-01-01 00:00:00            50.0         8.0        1003.9   \n2010-01-01 01:00:00            50.0         9.0        1004.0   \n2010-01-01 02:00:00            40.0         8.0        1004.2   \n2010-01-01 03:00:00            40.0         5.0        1004.6   \n2010-01-01 04:00:00            80.0         1.0        1004.9   \n...                             ...         ...           ...   \n2018-12-31 19:00:00           300.0         9.0        1037.1   \n2018-12-31 20:00:00           280.0        11.0        1037.2   \n2018-12-31 21:00:00           300.0         5.0        1037.1   \n2018-12-31 22:00:00           300.0        11.0        1037.1   \n2018-12-31 23:00:00           290.0        12.0        1037.0   \n\n                     air_temperature  Latitude  Longitude  Flag  Hs (Hm0)(m)  \\\nob_time                                                                        \n2010-01-01 00:00:00              2.1  51.05787   -4.27703     0         0.49   \n2010-01-01 01:00:00              2.1  51.05787   -4.27703     0         0.53   \n2010-01-01 02:00:00              1.4  51.05806   -4.27716     0         0.60   \n2010-01-01 03:00:00              1.2  51.05853   -4.27626     0         0.64   \n2010-01-01 04:00:00             -1.0  51.05848   -4.27589     0         0.61   \n...                              ...       ...        ...   ...          ...   \n2018-12-31 19:00:00              9.7  51.05769   -4.27699     0         1.22   \n2018-12-31 20:00:00              9.7  51.05768   -4.27662     0         1.32   \n2018-12-31 21:00:00              9.5  51.05793   -4.27608     0         1.42   \n2018-12-31 22:00:00              9.6  51.05806   -4.27600     0         1.51   \n2018-12-31 23:00:00              9.5  51.05832   -4.27604     0         1.51   \n\n                     Hmax (m)  Tp (s)  Tz (Tm)(s)  Dirp (degrees)  \\\nob_time                                                             \n2010-01-01 00:00:00      0.69    10.5         3.9           291.0   \n2010-01-01 01:00:00      0.74    12.5         4.0           281.0   \n2010-01-01 02:00:00      0.95     4.5         3.5           345.0   \n2010-01-01 03:00:00      0.96     5.3         4.0           353.0   \n2010-01-01 04:00:00      1.14     5.0         3.9           347.0   \n...                       ...     ...         ...             ...   \n2018-12-31 19:00:00      1.82    10.0         6.2           273.0   \n2018-12-31 20:00:00      2.06    10.0         6.5           278.0   \n2018-12-31 21:00:00      2.06    10.5         6.6           280.0   \n2018-12-31 22:00:00      2.85    11.1         6.6           277.0   \n2018-12-31 23:00:00      2.03    11.1         6.6           277.0   \n\n                     Spread (deg)  SST (deg C)  season_Autumn  season_Spring  \\\nob_time                                                                        \n2010-01-01 00:00:00          17.0          8.4            NaN            NaN   \n2010-01-01 01:00:00          17.0          8.6            NaN            NaN   \n2010-01-01 02:00:00          18.0          8.6            NaN            NaN   \n2010-01-01 03:00:00          19.0          8.7            NaN            NaN   \n2010-01-01 04:00:00          24.0          8.6            NaN            NaN   \n...                           ...          ...            ...            ...   \n2018-12-31 19:00:00          10.0         10.2            NaN            NaN   \n2018-12-31 20:00:00           8.0         10.3            NaN            NaN   \n2018-12-31 21:00:00           9.0         10.3            NaN            NaN   \n2018-12-31 22:00:00           9.0         10.3            NaN            NaN   \n2018-12-31 23:00:00           9.0         10.3            NaN            NaN   \n\n                     season_Summer  season_Winter  \nob_time                                            \n2010-01-01 00:00:00            NaN            NaN  \n2010-01-01 01:00:00            NaN            NaN  \n2010-01-01 02:00:00            NaN            NaN  \n2010-01-01 03:00:00            NaN            NaN  \n2010-01-01 04:00:00            NaN            NaN  \n...                            ...            ...  \n2018-12-31 19:00:00            NaN            NaN  \n2018-12-31 20:00:00            NaN            NaN  \n2018-12-31 21:00:00            NaN            NaN  \n2018-12-31 22:00:00            NaN            NaN  \n2018-12-31 23:00:00            NaN            NaN  \n\n[78811 rows x 18 columns]",
      "text/html": "<div>\n<style scoped>\n    .dataframe tbody tr th:only-of-type {\n        vertical-align: middle;\n    }\n\n    .dataframe tbody tr th {\n        vertical-align: top;\n    }\n\n    .dataframe thead th {\n        text-align: right;\n    }\n</style>\n<table border=\"1\" class=\"dataframe\">\n  <thead>\n    <tr style=\"text-align: right;\">\n      <th></th>\n      <th>wind_direction</th>\n      <th>wind_speed</th>\n      <th>msl_pressure</th>\n      <th>air_temperature</th>\n      <th>Latitude</th>\n      <th>Longitude</th>\n      <th>Flag</th>\n      <th>Hs (Hm0)(m)</th>\n      <th>Hmax (m)</th>\n      <th>Tp (s)</th>\n      <th>Tz (Tm)(s)</th>\n      <th>Dirp (degrees)</th>\n      <th>Spread (deg)</th>\n      <th>SST (deg C)</th>\n      <th>season_Autumn</th>\n      <th>season_Spring</th>\n      <th>season_Summer</th>\n      <th>season_Winter</th>\n    </tr>\n    <tr>\n      <th>ob_time</th>\n      <th></th>\n      <th></th>\n      <th></th>\n      <th></th>\n      <th></th>\n      <th></th>\n      <th></th>\n      <th></th>\n      <th></th>\n      <th></th>\n      <th></th>\n      <th></th>\n      <th></th>\n      <th></th>\n      <th></th>\n      <th></th>\n      <th></th>\n      <th></th>\n    </tr>\n  </thead>\n  <tbody>\n    <tr>\n      <th>2010-01-01 00:00:00</th>\n      <td>50.0</td>\n      <td>8.0</td>\n      <td>1003.9</td>\n      <td>2.1</td>\n      <td>51.05787</td>\n      <td>-4.27703</td>\n      <td>0</td>\n      <td>0.49</td>\n      <td>0.69</td>\n      <td>10.5</td>\n      <td>3.9</td>\n      <td>291.0</td>\n      <td>17.0</td>\n      <td>8.4</td>\n      <td>NaN</td>\n      <td>NaN</td>\n      <td>NaN</td>\n      <td>NaN</td>\n    </tr>\n    <tr>\n      <th>2010-01-01 01:00:00</th>\n      <td>50.0</td>\n      <td>9.0</td>\n      <td>1004.0</td>\n      <td>2.1</td>\n      <td>51.05787</td>\n      <td>-4.27703</td>\n      <td>0</td>\n      <td>0.53</td>\n      <td>0.74</td>\n      <td>12.5</td>\n      <td>4.0</td>\n      <td>281.0</td>\n      <td>17.0</td>\n      <td>8.6</td>\n      <td>NaN</td>\n      <td>NaN</td>\n      <td>NaN</td>\n      <td>NaN</td>\n    </tr>\n    <tr>\n      <th>2010-01-01 02:00:00</th>\n      <td>40.0</td>\n      <td>8.0</td>\n      <td>1004.2</td>\n      <td>1.4</td>\n      <td>51.05806</td>\n      <td>-4.27716</td>\n      <td>0</td>\n      <td>0.60</td>\n      <td>0.95</td>\n      <td>4.5</td>\n      <td>3.5</td>\n      <td>345.0</td>\n      <td>18.0</td>\n      <td>8.6</td>\n      <td>NaN</td>\n      <td>NaN</td>\n      <td>NaN</td>\n      <td>NaN</td>\n    </tr>\n    <tr>\n      <th>2010-01-01 03:00:00</th>\n      <td>40.0</td>\n      <td>5.0</td>\n      <td>1004.6</td>\n      <td>1.2</td>\n      <td>51.05853</td>\n      <td>-4.27626</td>\n      <td>0</td>\n      <td>0.64</td>\n      <td>0.96</td>\n      <td>5.3</td>\n      <td>4.0</td>\n      <td>353.0</td>\n      <td>19.0</td>\n      <td>8.7</td>\n      <td>NaN</td>\n      <td>NaN</td>\n      <td>NaN</td>\n      <td>NaN</td>\n    </tr>\n    <tr>\n      <th>2010-01-01 04:00:00</th>\n      <td>80.0</td>\n      <td>1.0</td>\n      <td>1004.9</td>\n      <td>-1.0</td>\n      <td>51.05848</td>\n      <td>-4.27589</td>\n      <td>0</td>\n      <td>0.61</td>\n      <td>1.14</td>\n      <td>5.0</td>\n      <td>3.9</td>\n      <td>347.0</td>\n      <td>24.0</td>\n      <td>8.6</td>\n      <td>NaN</td>\n      <td>NaN</td>\n      <td>NaN</td>\n      <td>NaN</td>\n    </tr>\n    <tr>\n      <th>...</th>\n      <td>...</td>\n      <td>...</td>\n      <td>...</td>\n      <td>...</td>\n      <td>...</td>\n      <td>...</td>\n      <td>...</td>\n      <td>...</td>\n      <td>...</td>\n      <td>...</td>\n      <td>...</td>\n      <td>...</td>\n      <td>...</td>\n      <td>...</td>\n      <td>...</td>\n      <td>...</td>\n      <td>...</td>\n      <td>...</td>\n    </tr>\n    <tr>\n      <th>2018-12-31 19:00:00</th>\n      <td>300.0</td>\n      <td>9.0</td>\n      <td>1037.1</td>\n      <td>9.7</td>\n      <td>51.05769</td>\n      <td>-4.27699</td>\n      <td>0</td>\n      <td>1.22</td>\n      <td>1.82</td>\n      <td>10.0</td>\n      <td>6.2</td>\n      <td>273.0</td>\n      <td>10.0</td>\n      <td>10.2</td>\n      <td>NaN</td>\n      <td>NaN</td>\n      <td>NaN</td>\n      <td>NaN</td>\n    </tr>\n    <tr>\n      <th>2018-12-31 20:00:00</th>\n      <td>280.0</td>\n      <td>11.0</td>\n      <td>1037.2</td>\n      <td>9.7</td>\n      <td>51.05768</td>\n      <td>-4.27662</td>\n      <td>0</td>\n      <td>1.32</td>\n      <td>2.06</td>\n      <td>10.0</td>\n      <td>6.5</td>\n      <td>278.0</td>\n      <td>8.0</td>\n      <td>10.3</td>\n      <td>NaN</td>\n      <td>NaN</td>\n      <td>NaN</td>\n      <td>NaN</td>\n    </tr>\n    <tr>\n      <th>2018-12-31 21:00:00</th>\n      <td>300.0</td>\n      <td>5.0</td>\n      <td>1037.1</td>\n      <td>9.5</td>\n      <td>51.05793</td>\n      <td>-4.27608</td>\n      <td>0</td>\n      <td>1.42</td>\n      <td>2.06</td>\n      <td>10.5</td>\n      <td>6.6</td>\n      <td>280.0</td>\n      <td>9.0</td>\n      <td>10.3</td>\n      <td>NaN</td>\n      <td>NaN</td>\n      <td>NaN</td>\n      <td>NaN</td>\n    </tr>\n    <tr>\n      <th>2018-12-31 22:00:00</th>\n      <td>300.0</td>\n      <td>11.0</td>\n      <td>1037.1</td>\n      <td>9.6</td>\n      <td>51.05806</td>\n      <td>-4.27600</td>\n      <td>0</td>\n      <td>1.51</td>\n      <td>2.85</td>\n      <td>11.1</td>\n      <td>6.6</td>\n      <td>277.0</td>\n      <td>9.0</td>\n      <td>10.3</td>\n      <td>NaN</td>\n      <td>NaN</td>\n      <td>NaN</td>\n      <td>NaN</td>\n    </tr>\n    <tr>\n      <th>2018-12-31 23:00:00</th>\n      <td>290.0</td>\n      <td>12.0</td>\n      <td>1037.0</td>\n      <td>9.5</td>\n      <td>51.05832</td>\n      <td>-4.27604</td>\n      <td>0</td>\n      <td>1.51</td>\n      <td>2.03</td>\n      <td>11.1</td>\n      <td>6.6</td>\n      <td>277.0</td>\n      <td>9.0</td>\n      <td>10.3</td>\n      <td>NaN</td>\n      <td>NaN</td>\n      <td>NaN</td>\n      <td>NaN</td>\n    </tr>\n  </tbody>\n</table>\n<p>78811 rows × 18 columns</p>\n</div>"
     },
     "metadata": {},
     "execution_count": 85
    }
   ],
   "source": [
    "# MLP with keras + sklearn\n",
    "from sklearn.preprocessing import OneHotEncoder\n",
    "enc = OneHotEncoder()\n",
    "enc_df = pd.DataFrame(enc.fit_transform(all_data[['season']]).toarray())\n",
    "col_names = enc.get_feature_names(['season'])\n",
    "enc_df.columns = col_names\n",
    "\n",
    "all_data = all_data.join(enc_df)\n",
    "all_data.drop(['season'], axis = 1, inplace = True)\n",
    "all_data\n"
   ]
  },
  {
   "cell_type": "code",
   "execution_count": 86,
   "metadata": {
    "tags": []
   },
   "outputs": [
    {
     "output_type": "stream",
     "name": "stdout",
     "text": "Train shape:  (63048, 17)\nValidation shape:  (15763,)\n"
    }
   ],
   "source": [
    "# split into training and testing datasets\n",
    "from sklearn.model_selection import train_test_split\n",
    "from tensorflow.keras import optimizers\n",
    "from tensorflow.keras.models import Sequential, Model\n",
    "from tensorflow.keras.layers import Dense\n",
    "\n",
    "#split data\n",
    "y = np.asarray(all_data['Hs (Hm0)(m)'])\n",
    "x = np.asarray(all_data.drop([['ob_time','Hs (Hm0)(m)'],axis = 1))\n",
    "#x = np.asarray(x)\n",
    "x_train,x_val,y_train,y_val=train_test_split(x,y,test_size=0.2)\n",
    "print('Train shape: ',x_train.shape)\n",
    "print('Validation shape: ', y_val.shape)\n"
   ]
  },
  {
   "cell_type": "code",
   "execution_count": 88,
   "metadata": {},
   "outputs": [
    {
     "output_type": "execute_result",
     "data": {
      "text/plain": "array([[ 190. ,    5. , 1028.2, ...,    nan,    nan,    nan],\n       [ 120. ,    7. , 1002.9, ...,    nan,    nan,    nan],\n       [ 110. ,   13. , 1017.7, ...,    nan,    nan,    nan],\n       ...,\n       [ 120. ,   17. , 1001.8, ...,    nan,    nan,    nan],\n       [ 230. ,    6. , 1012.5, ...,    nan,    nan,    nan],\n       [ 270. ,   11. , 1033.3, ...,    nan,    nan,    nan]])"
     },
     "metadata": {},
     "execution_count": 88
    }
   ],
   "source": [
    "x_val"
   ]
  },
  {
   "cell_type": "code",
   "execution_count": 38,
   "metadata": {},
   "outputs": [
    {
     "output_type": "execute_result",
     "data": {
      "text/plain": "array([[Timestamp('2010-01-01 00:00:00'), 50.0, 8.0, ..., 291.0, 17.0,\n        8.4],\n       [Timestamp('2010-01-01 01:00:00'), 50.0, 9.0, ..., 281.0, 17.0,\n        8.6],\n       [Timestamp('2010-01-01 02:00:00'), 40.0, 8.0, ..., 345.0, 18.0,\n        8.6],\n       ...,\n       [Timestamp('2018-12-31 21:00:00'), 300.0, 5.0, ..., 280.0, 9.0,\n        10.3],\n       [Timestamp('2018-12-31 22:00:00'), 300.0, 11.0, ..., 277.0, 9.0,\n        10.3],\n       [Timestamp('2018-12-31 23:00:00'), 290.0, 12.0, ..., 277.0, 9.0,\n        10.3]], dtype=object)"
     },
     "metadata": {},
     "execution_count": 38
    }
   ],
   "source": []
  },
  {
   "cell_type": "code",
   "execution_count": 80,
   "metadata": {
    "tags": []
   },
   "outputs": [
    {
     "output_type": "stream",
     "name": "stdout",
     "text": "Model: \"sequential_4\"\n_________________________________________________________________\nLayer (type)                 Output Shape              Param #   \n=================================================================\ndense_6 (Dense)              (None, 12)                228       \n_________________________________________________________________\ndense_7 (Dense)              (None, 1)                 13        \n=================================================================\nTotal params: 241\nTrainable params: 241\nNon-trainable params: 0\n_________________________________________________________________\n"
    }
   ],
   "source": [
    "#MLP\n",
    "epochs = 20\n",
    "batch = 256\n",
    "lr = 0.0003\n",
    "adam = optimizers.Adam(lr)\n",
    "mlp_model = Sequential()\n",
    "mlp_model.add(Dense(12,activation = 'relu',input_dim = x_train.shape[1]))\n",
    "mlp_model.add(Dense(1))\n",
    "mlp_model.compile(loss = 'mse', optimizer = adam)\n",
    "mlp_model.summary()\n"
   ]
  },
  {
   "cell_type": "code",
   "execution_count": 81,
   "metadata": {},
   "outputs": [
    {
     "output_type": "error",
     "ename": "ValueError",
     "evalue": "Failed to convert a NumPy array to a Tensor (Unsupported object type Timestamp).",
     "traceback": [
      "\u001b[1;31m---------------------------------------------------------------------------\u001b[0m",
      "\u001b[1;31mValueError\u001b[0m                                Traceback (most recent call last)",
      "\u001b[1;32m<ipython-input-81-3e3819d7796a>\u001b[0m in \u001b[0;36m<module>\u001b[1;34m\u001b[0m\n\u001b[1;32m----> 1\u001b[1;33m \u001b[0mmlp_history\u001b[0m \u001b[1;33m=\u001b[0m \u001b[0mmlp_model\u001b[0m\u001b[1;33m.\u001b[0m\u001b[0mfit\u001b[0m\u001b[1;33m(\u001b[0m\u001b[0mx_train\u001b[0m\u001b[1;33m,\u001b[0m \u001b[0my_train\u001b[0m\u001b[1;33m,\u001b[0m \u001b[0mvalidation_data\u001b[0m\u001b[1;33m=\u001b[0m\u001b[1;33m(\u001b[0m\u001b[0mx_val\u001b[0m\u001b[1;33m,\u001b[0m \u001b[0my_val\u001b[0m\u001b[1;33m)\u001b[0m\u001b[1;33m,\u001b[0m \u001b[0mepochs\u001b[0m\u001b[1;33m=\u001b[0m\u001b[0mepochs\u001b[0m\u001b[1;33m,\u001b[0m \u001b[0mverbose\u001b[0m\u001b[1;33m=\u001b[0m\u001b[1;36m2\u001b[0m\u001b[1;33m)\u001b[0m\u001b[1;33m\u001b[0m\u001b[1;33m\u001b[0m\u001b[0m\n\u001b[0m",
      "\u001b[1;32m~\\Anaconda3\\envs\\tensorflow_v2_1\\lib\\site-packages\\tensorflow_core\\python\\keras\\engine\\training.py\u001b[0m in \u001b[0;36mfit\u001b[1;34m(self, x, y, batch_size, epochs, verbose, callbacks, validation_split, validation_data, shuffle, class_weight, sample_weight, initial_epoch, steps_per_epoch, validation_steps, validation_freq, max_queue_size, workers, use_multiprocessing, **kwargs)\u001b[0m\n\u001b[0;32m    817\u001b[0m         \u001b[0mmax_queue_size\u001b[0m\u001b[1;33m=\u001b[0m\u001b[0mmax_queue_size\u001b[0m\u001b[1;33m,\u001b[0m\u001b[1;33m\u001b[0m\u001b[1;33m\u001b[0m\u001b[0m\n\u001b[0;32m    818\u001b[0m         \u001b[0mworkers\u001b[0m\u001b[1;33m=\u001b[0m\u001b[0mworkers\u001b[0m\u001b[1;33m,\u001b[0m\u001b[1;33m\u001b[0m\u001b[1;33m\u001b[0m\u001b[0m\n\u001b[1;32m--> 819\u001b[1;33m         use_multiprocessing=use_multiprocessing)\n\u001b[0m\u001b[0;32m    820\u001b[0m \u001b[1;33m\u001b[0m\u001b[0m\n\u001b[0;32m    821\u001b[0m   def evaluate(self,\n",
      "\u001b[1;32m~\\Anaconda3\\envs\\tensorflow_v2_1\\lib\\site-packages\\tensorflow_core\\python\\keras\\engine\\training_v2.py\u001b[0m in \u001b[0;36mfit\u001b[1;34m(self, model, x, y, batch_size, epochs, verbose, callbacks, validation_split, validation_data, shuffle, class_weight, sample_weight, initial_epoch, steps_per_epoch, validation_steps, validation_freq, max_queue_size, workers, use_multiprocessing, **kwargs)\u001b[0m\n\u001b[0;32m    233\u001b[0m           \u001b[0mmax_queue_size\u001b[0m\u001b[1;33m=\u001b[0m\u001b[0mmax_queue_size\u001b[0m\u001b[1;33m,\u001b[0m\u001b[1;33m\u001b[0m\u001b[1;33m\u001b[0m\u001b[0m\n\u001b[0;32m    234\u001b[0m           \u001b[0mworkers\u001b[0m\u001b[1;33m=\u001b[0m\u001b[0mworkers\u001b[0m\u001b[1;33m,\u001b[0m\u001b[1;33m\u001b[0m\u001b[1;33m\u001b[0m\u001b[0m\n\u001b[1;32m--> 235\u001b[1;33m           use_multiprocessing=use_multiprocessing)\n\u001b[0m\u001b[0;32m    236\u001b[0m \u001b[1;33m\u001b[0m\u001b[0m\n\u001b[0;32m    237\u001b[0m       \u001b[0mtotal_samples\u001b[0m \u001b[1;33m=\u001b[0m \u001b[0m_get_total_number_of_samples\u001b[0m\u001b[1;33m(\u001b[0m\u001b[0mtraining_data_adapter\u001b[0m\u001b[1;33m)\u001b[0m\u001b[1;33m\u001b[0m\u001b[1;33m\u001b[0m\u001b[0m\n",
      "\u001b[1;32m~\\Anaconda3\\envs\\tensorflow_v2_1\\lib\\site-packages\\tensorflow_core\\python\\keras\\engine\\training_v2.py\u001b[0m in \u001b[0;36m_process_training_inputs\u001b[1;34m(model, x, y, batch_size, epochs, sample_weights, class_weights, steps_per_epoch, validation_split, validation_data, validation_steps, shuffle, distribution_strategy, max_queue_size, workers, use_multiprocessing)\u001b[0m\n\u001b[0;32m    591\u001b[0m         \u001b[0mmax_queue_size\u001b[0m\u001b[1;33m=\u001b[0m\u001b[0mmax_queue_size\u001b[0m\u001b[1;33m,\u001b[0m\u001b[1;33m\u001b[0m\u001b[1;33m\u001b[0m\u001b[0m\n\u001b[0;32m    592\u001b[0m         \u001b[0mworkers\u001b[0m\u001b[1;33m=\u001b[0m\u001b[0mworkers\u001b[0m\u001b[1;33m,\u001b[0m\u001b[1;33m\u001b[0m\u001b[1;33m\u001b[0m\u001b[0m\n\u001b[1;32m--> 593\u001b[1;33m         use_multiprocessing=use_multiprocessing)\n\u001b[0m\u001b[0;32m    594\u001b[0m     \u001b[0mval_adapter\u001b[0m \u001b[1;33m=\u001b[0m \u001b[1;32mNone\u001b[0m\u001b[1;33m\u001b[0m\u001b[1;33m\u001b[0m\u001b[0m\n\u001b[0;32m    595\u001b[0m     \u001b[1;32mif\u001b[0m \u001b[0mvalidation_data\u001b[0m\u001b[1;33m:\u001b[0m\u001b[1;33m\u001b[0m\u001b[1;33m\u001b[0m\u001b[0m\n",
      "\u001b[1;32m~\\Anaconda3\\envs\\tensorflow_v2_1\\lib\\site-packages\\tensorflow_core\\python\\keras\\engine\\training_v2.py\u001b[0m in \u001b[0;36m_process_inputs\u001b[1;34m(model, mode, x, y, batch_size, epochs, sample_weights, class_weights, shuffle, steps, distribution_strategy, max_queue_size, workers, use_multiprocessing)\u001b[0m\n\u001b[0;32m    704\u001b[0m       \u001b[0mmax_queue_size\u001b[0m\u001b[1;33m=\u001b[0m\u001b[0mmax_queue_size\u001b[0m\u001b[1;33m,\u001b[0m\u001b[1;33m\u001b[0m\u001b[1;33m\u001b[0m\u001b[0m\n\u001b[0;32m    705\u001b[0m       \u001b[0mworkers\u001b[0m\u001b[1;33m=\u001b[0m\u001b[0mworkers\u001b[0m\u001b[1;33m,\u001b[0m\u001b[1;33m\u001b[0m\u001b[1;33m\u001b[0m\u001b[0m\n\u001b[1;32m--> 706\u001b[1;33m       use_multiprocessing=use_multiprocessing)\n\u001b[0m\u001b[0;32m    707\u001b[0m \u001b[1;33m\u001b[0m\u001b[0m\n\u001b[0;32m    708\u001b[0m   \u001b[1;32mreturn\u001b[0m \u001b[0madapter\u001b[0m\u001b[1;33m\u001b[0m\u001b[1;33m\u001b[0m\u001b[0m\n",
      "\u001b[1;32m~\\Anaconda3\\envs\\tensorflow_v2_1\\lib\\site-packages\\tensorflow_core\\python\\keras\\engine\\data_adapter.py\u001b[0m in \u001b[0;36m__init__\u001b[1;34m(self, x, y, sample_weights, sample_weight_modes, batch_size, epochs, steps, shuffle, **kwargs)\u001b[0m\n\u001b[0;32m    355\u001b[0m     \u001b[0mindices_dataset\u001b[0m \u001b[1;33m=\u001b[0m \u001b[0mindices_dataset\u001b[0m\u001b[1;33m.\u001b[0m\u001b[0mflat_map\u001b[0m\u001b[1;33m(\u001b[0m\u001b[0mslice_batch_indices\u001b[0m\u001b[1;33m)\u001b[0m\u001b[1;33m\u001b[0m\u001b[1;33m\u001b[0m\u001b[0m\n\u001b[0;32m    356\u001b[0m \u001b[1;33m\u001b[0m\u001b[0m\n\u001b[1;32m--> 357\u001b[1;33m     \u001b[0mdataset\u001b[0m \u001b[1;33m=\u001b[0m \u001b[0mself\u001b[0m\u001b[1;33m.\u001b[0m\u001b[0mslice_inputs\u001b[0m\u001b[1;33m(\u001b[0m\u001b[0mindices_dataset\u001b[0m\u001b[1;33m,\u001b[0m \u001b[0minputs\u001b[0m\u001b[1;33m)\u001b[0m\u001b[1;33m\u001b[0m\u001b[1;33m\u001b[0m\u001b[0m\n\u001b[0m\u001b[0;32m    358\u001b[0m \u001b[1;33m\u001b[0m\u001b[0m\n\u001b[0;32m    359\u001b[0m     \u001b[1;32mif\u001b[0m \u001b[0mshuffle\u001b[0m \u001b[1;33m==\u001b[0m \u001b[1;34m\"batch\"\u001b[0m\u001b[1;33m:\u001b[0m\u001b[1;33m\u001b[0m\u001b[1;33m\u001b[0m\u001b[0m\n",
      "\u001b[1;32m~\\Anaconda3\\envs\\tensorflow_v2_1\\lib\\site-packages\\tensorflow_core\\python\\keras\\engine\\data_adapter.py\u001b[0m in \u001b[0;36mslice_inputs\u001b[1;34m(self, indices_dataset, inputs)\u001b[0m\n\u001b[0;32m    381\u001b[0m     dataset = dataset_ops.DatasetV2.zip((\n\u001b[0;32m    382\u001b[0m         \u001b[0mindices_dataset\u001b[0m\u001b[1;33m,\u001b[0m\u001b[1;33m\u001b[0m\u001b[1;33m\u001b[0m\u001b[0m\n\u001b[1;32m--> 383\u001b[1;33m         \u001b[0mdataset_ops\u001b[0m\u001b[1;33m.\u001b[0m\u001b[0mDatasetV2\u001b[0m\u001b[1;33m.\u001b[0m\u001b[0mfrom_tensors\u001b[0m\u001b[1;33m(\u001b[0m\u001b[0minputs\u001b[0m\u001b[1;33m)\u001b[0m\u001b[1;33m.\u001b[0m\u001b[0mrepeat\u001b[0m\u001b[1;33m(\u001b[0m\u001b[1;33m)\u001b[0m\u001b[1;33m\u001b[0m\u001b[1;33m\u001b[0m\u001b[0m\n\u001b[0m\u001b[0;32m    384\u001b[0m     ))\n\u001b[0;32m    385\u001b[0m \u001b[1;33m\u001b[0m\u001b[0m\n",
      "\u001b[1;32m~\\Anaconda3\\envs\\tensorflow_v2_1\\lib\\site-packages\\tensorflow_core\\python\\data\\ops\\dataset_ops.py\u001b[0m in \u001b[0;36mfrom_tensors\u001b[1;34m(tensors)\u001b[0m\n\u001b[0;32m    564\u001b[0m       \u001b[0mDataset\u001b[0m\u001b[1;33m:\u001b[0m \u001b[0mA\u001b[0m\u001b[0;31m \u001b[0m\u001b[0;31m`\u001b[0m\u001b[0mDataset\u001b[0m\u001b[0;31m`\u001b[0m\u001b[1;33m.\u001b[0m\u001b[1;33m\u001b[0m\u001b[1;33m\u001b[0m\u001b[0m\n\u001b[0;32m    565\u001b[0m     \"\"\"\n\u001b[1;32m--> 566\u001b[1;33m     \u001b[1;32mreturn\u001b[0m \u001b[0mTensorDataset\u001b[0m\u001b[1;33m(\u001b[0m\u001b[0mtensors\u001b[0m\u001b[1;33m)\u001b[0m\u001b[1;33m\u001b[0m\u001b[1;33m\u001b[0m\u001b[0m\n\u001b[0m\u001b[0;32m    567\u001b[0m \u001b[1;33m\u001b[0m\u001b[0m\n\u001b[0;32m    568\u001b[0m   \u001b[1;33m@\u001b[0m\u001b[0mstaticmethod\u001b[0m\u001b[1;33m\u001b[0m\u001b[1;33m\u001b[0m\u001b[0m\n",
      "\u001b[1;32m~\\Anaconda3\\envs\\tensorflow_v2_1\\lib\\site-packages\\tensorflow_core\\python\\data\\ops\\dataset_ops.py\u001b[0m in \u001b[0;36m__init__\u001b[1;34m(self, element)\u001b[0m\n\u001b[0;32m   2763\u001b[0m   \u001b[1;32mdef\u001b[0m \u001b[0m__init__\u001b[0m\u001b[1;33m(\u001b[0m\u001b[0mself\u001b[0m\u001b[1;33m,\u001b[0m \u001b[0melement\u001b[0m\u001b[1;33m)\u001b[0m\u001b[1;33m:\u001b[0m\u001b[1;33m\u001b[0m\u001b[1;33m\u001b[0m\u001b[0m\n\u001b[0;32m   2764\u001b[0m     \u001b[1;34m\"\"\"See `Dataset.from_tensors()` for details.\"\"\"\u001b[0m\u001b[1;33m\u001b[0m\u001b[1;33m\u001b[0m\u001b[0m\n\u001b[1;32m-> 2765\u001b[1;33m     \u001b[0melement\u001b[0m \u001b[1;33m=\u001b[0m \u001b[0mstructure\u001b[0m\u001b[1;33m.\u001b[0m\u001b[0mnormalize_element\u001b[0m\u001b[1;33m(\u001b[0m\u001b[0melement\u001b[0m\u001b[1;33m)\u001b[0m\u001b[1;33m\u001b[0m\u001b[1;33m\u001b[0m\u001b[0m\n\u001b[0m\u001b[0;32m   2766\u001b[0m     \u001b[0mself\u001b[0m\u001b[1;33m.\u001b[0m\u001b[0m_structure\u001b[0m \u001b[1;33m=\u001b[0m \u001b[0mstructure\u001b[0m\u001b[1;33m.\u001b[0m\u001b[0mtype_spec_from_value\u001b[0m\u001b[1;33m(\u001b[0m\u001b[0melement\u001b[0m\u001b[1;33m)\u001b[0m\u001b[1;33m\u001b[0m\u001b[1;33m\u001b[0m\u001b[0m\n\u001b[0;32m   2767\u001b[0m     \u001b[0mself\u001b[0m\u001b[1;33m.\u001b[0m\u001b[0m_tensors\u001b[0m \u001b[1;33m=\u001b[0m \u001b[0mstructure\u001b[0m\u001b[1;33m.\u001b[0m\u001b[0mto_tensor_list\u001b[0m\u001b[1;33m(\u001b[0m\u001b[0mself\u001b[0m\u001b[1;33m.\u001b[0m\u001b[0m_structure\u001b[0m\u001b[1;33m,\u001b[0m \u001b[0melement\u001b[0m\u001b[1;33m)\u001b[0m\u001b[1;33m\u001b[0m\u001b[1;33m\u001b[0m\u001b[0m\n",
      "\u001b[1;32m~\\Anaconda3\\envs\\tensorflow_v2_1\\lib\\site-packages\\tensorflow_core\\python\\data\\util\\structure.py\u001b[0m in \u001b[0;36mnormalize_element\u001b[1;34m(element)\u001b[0m\n\u001b[0;32m    111\u001b[0m         \u001b[1;32melse\u001b[0m\u001b[1;33m:\u001b[0m\u001b[1;33m\u001b[0m\u001b[1;33m\u001b[0m\u001b[0m\n\u001b[0;32m    112\u001b[0m           normalized_components.append(\n\u001b[1;32m--> 113\u001b[1;33m               ops.convert_to_tensor(t, name=\"component_%d\" % i))\n\u001b[0m\u001b[0;32m    114\u001b[0m   \u001b[1;32mreturn\u001b[0m \u001b[0mnest\u001b[0m\u001b[1;33m.\u001b[0m\u001b[0mpack_sequence_as\u001b[0m\u001b[1;33m(\u001b[0m\u001b[0melement\u001b[0m\u001b[1;33m,\u001b[0m \u001b[0mnormalized_components\u001b[0m\u001b[1;33m)\u001b[0m\u001b[1;33m\u001b[0m\u001b[1;33m\u001b[0m\u001b[0m\n\u001b[0;32m    115\u001b[0m \u001b[1;33m\u001b[0m\u001b[0m\n",
      "\u001b[1;32m~\\Anaconda3\\envs\\tensorflow_v2_1\\lib\\site-packages\\tensorflow_core\\python\\framework\\ops.py\u001b[0m in \u001b[0;36mconvert_to_tensor\u001b[1;34m(value, dtype, name, as_ref, preferred_dtype, dtype_hint, ctx, accepted_result_types)\u001b[0m\n\u001b[0;32m   1312\u001b[0m \u001b[1;33m\u001b[0m\u001b[0m\n\u001b[0;32m   1313\u001b[0m     \u001b[1;32mif\u001b[0m \u001b[0mret\u001b[0m \u001b[1;32mis\u001b[0m \u001b[1;32mNone\u001b[0m\u001b[1;33m:\u001b[0m\u001b[1;33m\u001b[0m\u001b[1;33m\u001b[0m\u001b[0m\n\u001b[1;32m-> 1314\u001b[1;33m       \u001b[0mret\u001b[0m \u001b[1;33m=\u001b[0m \u001b[0mconversion_func\u001b[0m\u001b[1;33m(\u001b[0m\u001b[0mvalue\u001b[0m\u001b[1;33m,\u001b[0m \u001b[0mdtype\u001b[0m\u001b[1;33m=\u001b[0m\u001b[0mdtype\u001b[0m\u001b[1;33m,\u001b[0m \u001b[0mname\u001b[0m\u001b[1;33m=\u001b[0m\u001b[0mname\u001b[0m\u001b[1;33m,\u001b[0m \u001b[0mas_ref\u001b[0m\u001b[1;33m=\u001b[0m\u001b[0mas_ref\u001b[0m\u001b[1;33m)\u001b[0m\u001b[1;33m\u001b[0m\u001b[1;33m\u001b[0m\u001b[0m\n\u001b[0m\u001b[0;32m   1315\u001b[0m \u001b[1;33m\u001b[0m\u001b[0m\n\u001b[0;32m   1316\u001b[0m     \u001b[1;32mif\u001b[0m \u001b[0mret\u001b[0m \u001b[1;32mis\u001b[0m \u001b[0mNotImplemented\u001b[0m\u001b[1;33m:\u001b[0m\u001b[1;33m\u001b[0m\u001b[1;33m\u001b[0m\u001b[0m\n",
      "\u001b[1;32m~\\Anaconda3\\envs\\tensorflow_v2_1\\lib\\site-packages\\tensorflow_core\\python\\framework\\tensor_conversion_registry.py\u001b[0m in \u001b[0;36m_default_conversion_function\u001b[1;34m(***failed resolving arguments***)\u001b[0m\n\u001b[0;32m     50\u001b[0m \u001b[1;32mdef\u001b[0m \u001b[0m_default_conversion_function\u001b[0m\u001b[1;33m(\u001b[0m\u001b[0mvalue\u001b[0m\u001b[1;33m,\u001b[0m \u001b[0mdtype\u001b[0m\u001b[1;33m,\u001b[0m \u001b[0mname\u001b[0m\u001b[1;33m,\u001b[0m \u001b[0mas_ref\u001b[0m\u001b[1;33m)\u001b[0m\u001b[1;33m:\u001b[0m\u001b[1;33m\u001b[0m\u001b[1;33m\u001b[0m\u001b[0m\n\u001b[0;32m     51\u001b[0m   \u001b[1;32mdel\u001b[0m \u001b[0mas_ref\u001b[0m  \u001b[1;31m# Unused.\u001b[0m\u001b[1;33m\u001b[0m\u001b[1;33m\u001b[0m\u001b[0m\n\u001b[1;32m---> 52\u001b[1;33m   \u001b[1;32mreturn\u001b[0m \u001b[0mconstant_op\u001b[0m\u001b[1;33m.\u001b[0m\u001b[0mconstant\u001b[0m\u001b[1;33m(\u001b[0m\u001b[0mvalue\u001b[0m\u001b[1;33m,\u001b[0m \u001b[0mdtype\u001b[0m\u001b[1;33m,\u001b[0m \u001b[0mname\u001b[0m\u001b[1;33m=\u001b[0m\u001b[0mname\u001b[0m\u001b[1;33m)\u001b[0m\u001b[1;33m\u001b[0m\u001b[1;33m\u001b[0m\u001b[0m\n\u001b[0m\u001b[0;32m     53\u001b[0m \u001b[1;33m\u001b[0m\u001b[0m\n\u001b[0;32m     54\u001b[0m \u001b[1;33m\u001b[0m\u001b[0m\n",
      "\u001b[1;32m~\\Anaconda3\\envs\\tensorflow_v2_1\\lib\\site-packages\\tensorflow_core\\python\\framework\\constant_op.py\u001b[0m in \u001b[0;36mconstant\u001b[1;34m(value, dtype, shape, name)\u001b[0m\n\u001b[0;32m    256\u001b[0m   \"\"\"\n\u001b[0;32m    257\u001b[0m   return _constant_impl(value, dtype, shape, name, verify_shape=False,\n\u001b[1;32m--> 258\u001b[1;33m                         allow_broadcast=True)\n\u001b[0m\u001b[0;32m    259\u001b[0m \u001b[1;33m\u001b[0m\u001b[0m\n\u001b[0;32m    260\u001b[0m \u001b[1;33m\u001b[0m\u001b[0m\n",
      "\u001b[1;32m~\\Anaconda3\\envs\\tensorflow_v2_1\\lib\\site-packages\\tensorflow_core\\python\\framework\\constant_op.py\u001b[0m in \u001b[0;36m_constant_impl\u001b[1;34m(value, dtype, shape, name, verify_shape, allow_broadcast)\u001b[0m\n\u001b[0;32m    264\u001b[0m   \u001b[0mctx\u001b[0m \u001b[1;33m=\u001b[0m \u001b[0mcontext\u001b[0m\u001b[1;33m.\u001b[0m\u001b[0mcontext\u001b[0m\u001b[1;33m(\u001b[0m\u001b[1;33m)\u001b[0m\u001b[1;33m\u001b[0m\u001b[1;33m\u001b[0m\u001b[0m\n\u001b[0;32m    265\u001b[0m   \u001b[1;32mif\u001b[0m \u001b[0mctx\u001b[0m\u001b[1;33m.\u001b[0m\u001b[0mexecuting_eagerly\u001b[0m\u001b[1;33m(\u001b[0m\u001b[1;33m)\u001b[0m\u001b[1;33m:\u001b[0m\u001b[1;33m\u001b[0m\u001b[1;33m\u001b[0m\u001b[0m\n\u001b[1;32m--> 266\u001b[1;33m     \u001b[0mt\u001b[0m \u001b[1;33m=\u001b[0m \u001b[0mconvert_to_eager_tensor\u001b[0m\u001b[1;33m(\u001b[0m\u001b[0mvalue\u001b[0m\u001b[1;33m,\u001b[0m \u001b[0mctx\u001b[0m\u001b[1;33m,\u001b[0m \u001b[0mdtype\u001b[0m\u001b[1;33m)\u001b[0m\u001b[1;33m\u001b[0m\u001b[1;33m\u001b[0m\u001b[0m\n\u001b[0m\u001b[0;32m    267\u001b[0m     \u001b[1;32mif\u001b[0m \u001b[0mshape\u001b[0m \u001b[1;32mis\u001b[0m \u001b[1;32mNone\u001b[0m\u001b[1;33m:\u001b[0m\u001b[1;33m\u001b[0m\u001b[1;33m\u001b[0m\u001b[0m\n\u001b[0;32m    268\u001b[0m       \u001b[1;32mreturn\u001b[0m \u001b[0mt\u001b[0m\u001b[1;33m\u001b[0m\u001b[1;33m\u001b[0m\u001b[0m\n",
      "\u001b[1;32m~\\Anaconda3\\envs\\tensorflow_v2_1\\lib\\site-packages\\tensorflow_core\\python\\framework\\constant_op.py\u001b[0m in \u001b[0;36mconvert_to_eager_tensor\u001b[1;34m(value, ctx, dtype)\u001b[0m\n\u001b[0;32m     94\u001b[0m       \u001b[0mdtype\u001b[0m \u001b[1;33m=\u001b[0m \u001b[0mdtypes\u001b[0m\u001b[1;33m.\u001b[0m\u001b[0mas_dtype\u001b[0m\u001b[1;33m(\u001b[0m\u001b[0mdtype\u001b[0m\u001b[1;33m)\u001b[0m\u001b[1;33m.\u001b[0m\u001b[0mas_datatype_enum\u001b[0m\u001b[1;33m\u001b[0m\u001b[1;33m\u001b[0m\u001b[0m\n\u001b[0;32m     95\u001b[0m   \u001b[0mctx\u001b[0m\u001b[1;33m.\u001b[0m\u001b[0mensure_initialized\u001b[0m\u001b[1;33m(\u001b[0m\u001b[1;33m)\u001b[0m\u001b[1;33m\u001b[0m\u001b[1;33m\u001b[0m\u001b[0m\n\u001b[1;32m---> 96\u001b[1;33m   \u001b[1;32mreturn\u001b[0m \u001b[0mops\u001b[0m\u001b[1;33m.\u001b[0m\u001b[0mEagerTensor\u001b[0m\u001b[1;33m(\u001b[0m\u001b[0mvalue\u001b[0m\u001b[1;33m,\u001b[0m \u001b[0mctx\u001b[0m\u001b[1;33m.\u001b[0m\u001b[0mdevice_name\u001b[0m\u001b[1;33m,\u001b[0m \u001b[0mdtype\u001b[0m\u001b[1;33m)\u001b[0m\u001b[1;33m\u001b[0m\u001b[1;33m\u001b[0m\u001b[0m\n\u001b[0m\u001b[0;32m     97\u001b[0m \u001b[1;33m\u001b[0m\u001b[0m\n\u001b[0;32m     98\u001b[0m \u001b[1;33m\u001b[0m\u001b[0m\n",
      "\u001b[1;31mValueError\u001b[0m: Failed to convert a NumPy array to a Tensor (Unsupported object type Timestamp)."
     ]
    }
   ],
   "source": [
    "mlp_history = mlp_model.fit(x_train, y_train, validation_data=(x_val, y_val), epochs=epochs, verbose=2)"
   ]
  },
  {
   "cell_type": "code",
   "execution_count": null,
   "metadata": {},
   "outputs": [],
   "source": []
  },
  {
   "cell_type": "code",
   "execution_count": null,
   "metadata": {
    "tags": []
   },
   "outputs": [],
   "source": []
  },
  {
   "cell_type": "code",
   "execution_count": null,
   "metadata": {
    "tags": []
   },
   "outputs": [],
   "source": [
    "#wind_data['Season'] = []\n",
    "\n"
   ]
  },
  {
   "cell_type": "code",
   "execution_count": null,
   "metadata": {},
   "outputs": [],
   "source": []
  },
  {
   "cell_type": "code",
   "execution_count": null,
   "metadata": {},
   "outputs": [],
   "source": []
  }
 ]
}